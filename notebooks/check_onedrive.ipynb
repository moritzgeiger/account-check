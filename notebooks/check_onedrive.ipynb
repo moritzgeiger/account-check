{
 "cells": [
  {
   "cell_type": "code",
   "execution_count": 2,
   "id": "8b1581e3",
   "metadata": {},
   "outputs": [
    {
     "ename": "ImportError",
     "evalue": "'onedrivesdk' has been deprecated.\nVisit https://pypi.org/project/onedrivesdk for migration information.",
     "output_type": "error",
     "traceback": [
      "\u001b[0;31m---------------------------------------------------------------------------\u001b[0m",
      "\u001b[0;31mImportError\u001b[0m                               Traceback (most recent call last)",
      "Input \u001b[0;32mIn [2]\u001b[0m, in \u001b[0;36m<module>\u001b[0;34m\u001b[0m\n\u001b[0;32m----> 1\u001b[0m \u001b[38;5;28;01mimport\u001b[39;00m \u001b[38;5;21;01monedrivesdk\u001b[39;00m\n",
      "File \u001b[0;32m~/code/private/account-check/env/lib/python3.9/site-packages/onedrivesdk/__init__.py:6\u001b[0m, in \u001b[0;36m<module>\u001b[0;34m\u001b[0m\n\u001b[1;32m      1\u001b[0m \u001b[38;5;66;03m# Copyright Microsoft Corporation. All rights reserved.\u001b[39;00m\n\u001b[1;32m      3\u001b[0m MESSAGE \u001b[38;5;241m=\u001b[39m \u001b[38;5;124m\"\"\"\u001b[39m\u001b[38;5;124m'\u001b[39m\u001b[38;5;124monedrivesdk\u001b[39m\u001b[38;5;124m'\u001b[39m\u001b[38;5;124m has been deprecated.\u001b[39m\n\u001b[1;32m      4\u001b[0m \u001b[38;5;124mVisit https://pypi.org/project/onedrivesdk for migration information.\u001b[39m\u001b[38;5;124m\"\"\"\u001b[39m\n\u001b[0;32m----> 6\u001b[0m \u001b[38;5;28;01mraise\u001b[39;00m \u001b[38;5;167;01mImportError\u001b[39;00m(MESSAGE)\n",
      "\u001b[0;31mImportError\u001b[0m: 'onedrivesdk' has been deprecated.\nVisit https://pypi.org/project/onedrivesdk for migration information."
     ]
    }
   ],
   "source": [
    "import onedrivesdk"
   ]
  },
  {
   "cell_type": "code",
   "execution_count": null,
   "id": "3a0a6ddd",
   "metadata": {},
   "outputs": [],
   "source": []
  }
 ],
 "metadata": {
  "kernelspec": {
   "display_name": "Python 3 (ipykernel)",
   "language": "python",
   "name": "python3"
  },
  "language_info": {
   "codemirror_mode": {
    "name": "ipython",
    "version": 3
   },
   "file_extension": ".py",
   "mimetype": "text/x-python",
   "name": "python",
   "nbconvert_exporter": "python",
   "pygments_lexer": "ipython3",
   "version": "3.9.6"
  },
  "toc": {
   "base_numbering": 1,
   "nav_menu": {},
   "number_sections": true,
   "sideBar": true,
   "skip_h1_title": false,
   "title_cell": "Table of Contents",
   "title_sidebar": "Contents",
   "toc_cell": false,
   "toc_position": {},
   "toc_section_display": true,
   "toc_window_display": false
  }
 },
 "nbformat": 4,
 "nbformat_minor": 5
}
