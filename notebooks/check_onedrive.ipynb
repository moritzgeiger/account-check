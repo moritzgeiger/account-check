{
 "cells": [
  {
   "cell_type": "code",
   "execution_count": 1,
   "id": "8b1581e3",
   "metadata": {
    "ExecuteTime": {
     "end_time": "2022-01-18T19:26:27.700532Z",
     "start_time": "2022-01-18T19:26:27.607751Z"
    }
   },
   "outputs": [],
   "source": [
    "from azure.identity import InteractiveBrowserCredential\n",
    "from msgraph.core import GraphClient\n",
    "from configparser import ConfigParser\n",
    "# from ms_graph.clientimport import MicrosoftGraphClient\n",
    "from dotenv import load_dotenv, find_dotenv\n",
    "load_dotenv(find_dotenv())\n",
    "\n",
    "import os"
   ]
  },
  {
   "cell_type": "code",
   "execution_count": 2,
   "id": "fd867171",
   "metadata": {},
   "outputs": [],
   "source": [
    "load_dotenv(find_dotenv())\n",
    "\n",
    "TENANT_ID = os.environ.get('TENANT_ID')\n",
    "CLIENT_ID = os.environ.get('CLIENT_ID')\n",
    "\n",
    "AUTHORITY = os.environ.get('AUTHORITY') + TENANT_ID\n",
    "ENDPOINT = os.environ.get('ENDPOINT')\n",
    "CLIENT_ID = os.environ.get('CLIENT_ID')\n",
    "# ENDPOINT"
   ]
  },
  {
   "cell_type": "code",
   "execution_count": 3,
   "id": "9976cfaf",
   "metadata": {
    "ExecuteTime": {
     "end_time": "2022-01-18T19:38:25.104541Z",
     "start_time": "2022-01-18T19:38:24.681297Z"
    }
   },
   "outputs": [
    {
     "name": "stdout",
     "output_type": "stream",
     "text": [
      "flow {'user_code': 'D7THFU9QK', 'device_code': 'DAQABAAEAAAD--DLA3VO7QrddgJg7WevrZgdFTRsAz_QwhVERxlKy5QRQk2bRd9EcJ9H_WZdh7kbdjhFsM8gDuGswFUgvSVcxGOFMIOA5FaNLOYlbl4WkzwtqCJH2djWGkjBc18jFxim6on_B9ozNqoz-rRKACcJMQ4RfMJHJB9Fa1iL9fqSxLlbnkEIp72TlsnctLAU68Z4gAA', 'verification_uri': 'https://microsoft.com/devicelogin', 'expires_in': 900, 'interval': 5, 'message': 'To sign in, use a web browser to open the page https://microsoft.com/devicelogin and enter the code D7THFU9QK to authenticate.', 'expires_at': 1643881276.173447, '_correlation_id': '3b034abd-e53c-4528-aee6-793cc54c82cc'}\n",
      "To sign in, use a web browser to open the page https://microsoft.com/devicelogin and enter the code D7THFU9QK to authenticate.\n"
     ]
    },
    {
     "name": "stderr",
     "output_type": "stream",
     "text": [
      "\n",
      "KeyboardInterrupt\n",
      "\n"
     ]
    }
   ],
   "source": [
    "import requests\n",
    "import msal\n",
    "import atexit\n",
    "import os.path\n",
    "import urllib.parse\n",
    "\n",
    "SCOPES = [\n",
    "    'Files.ReadWrite.All',\n",
    "    'Sites.ReadWrite.All',\n",
    "    'User.Read',\n",
    "    'User.ReadBasic.All'\n",
    "]\n",
    "\n",
    "cache = msal.SerializableTokenCache()\n",
    "\n",
    "if os.path.exists('token_cache.bin'):\n",
    "    cache.deserialize(open('token_cache.bin', 'r').read())\n",
    "\n",
    "atexit.register(lambda: open('token_cache.bin', 'w').write(cache.serialize()) if cache.has_state_changed else None)\n",
    "\n",
    "app = msal.PublicClientApplication(CLIENT_ID, authority=AUTHORITY, token_cache=cache)\n",
    "\n",
    "accounts = app.get_accounts()\n",
    "result = None\n",
    "if len(accounts) > 0:\n",
    "    result = app.acquire_token_silent(SCOPES, account=accounts[0])\n",
    "    print(f'After len: {result}')\n",
    "\n",
    "if result is None:\n",
    "    flow = app.initiate_device_flow(scopes=SCOPES)\n",
    "    print(f'flow {flow}')\n",
    "    if 'user_code' not in flow:\n",
    "        raise Exception('Failed to create device flow')\n",
    "\n",
    "    print(flow['message'])\n",
    "\n",
    "    result = app.acquire_token_by_device_flow(flow)\n",
    "\n",
    "if 'access_token' in result:\n",
    "    headers={'Authorization': 'Bearer ' + result['access_token']}\n",
    "    params={'allowexternal': 'true'}\n",
    "    print(f'headers: {headers}')\n",
    "\n",
    "    folder = 'SaMo_Grundstücksverwaltungs_GbR'      # path in your OneDrive where file lives\n",
    "    filename = 'testmappe.xlsx'      # the file you want to download\n",
    "\n",
    "    # get the drive & file ID\n",
    "    file_path = f'{folder}/{filename}'\n",
    "    file_url = urllib.parse.quote(file_path)\n",
    "    result = requests.get(f'{ENDPOINT}/me/drive/root:/{file_url}', headers=headers)\n",
    "#     result = requests.get(f'{ENDPOINT}/me/drive/root:', headers=headers, params=params)\n",
    "#     print(result.content)\n",
    "#     result.raise_for_status()\n",
    "#     json = result.json()\n",
    "#     drive_id = json['parentReference']['driveId']\n",
    "#     file_id = json['id']\n",
    "\n",
    "    # download the file\n",
    "#     result = requests.get(f'{ENDPOINT}/drives/{drive_id}/items/{file_id}/content', headers=headers)\n",
    "#     open('testmappe.xlsx', 'wb').write(result.content)\n",
    "\n",
    "else:\n",
    "    raise Exception('no access token in result')"
   ]
  },
  {
   "cell_type": "code",
   "execution_count": null,
   "id": "ece698f5",
   "metadata": {
    "ExecuteTime": {
     "end_time": "2022-01-18T19:12:34.138454Z",
     "start_time": "2022-01-18T19:12:34.112813Z"
    }
   },
   "outputs": [],
   "source": [
    "di = {\"@odata.context\":\"https://graph.microsoft.com/v1.0/$metadata#drives\",\"value\":[{\"createdDateTime\":\"2020-06-06T23:35:05Z\",\"description\":\"\",\"id\":\"b!c8HSvzsl_0GG1UpekvMeGktCFpFl9IdFheZBDshkRgaxFsZaNYYBSLnPuizDMLDZ\",\"lastModifiedDateTime\":\"2020-06-06T23:35:05Z\",\"name\":\"OneDrive\",\"webUrl\":\"https://stege387-my.sharepoint.com/personal/admin_stege387_onmicrosoft_com/Documents\",\"driveType\":\"business\",\"createdBy\":{\"user\":{\"displayName\":\"System Account\"}},\"lastModifiedBy\":{\"user\":{\"displayName\":\"System Account\"}},\"owner\":{\"user\":{\"email\":\"moritzgeiger@hotmail.de\",\"id\":\"9e98d297-333a-4006-98c3-90a052598e2a\",\"displayName\":\"moritz geiger\"}},\"quota\":{\"deleted\":0,\"remaining\":1099509994480,\"state\":\"normal\",\"total\":1099511627776,\"used\":1633296}}]}\n",
    "di    \n",
    "           \n",
    "           \n",
    "           "
   ]
  },
  {
   "cell_type": "code",
   "execution_count": null,
   "id": "f0126c16",
   "metadata": {},
   "outputs": [],
   "source": []
  },
  {
   "cell_type": "code",
   "execution_count": null,
   "id": "8982e5c8",
   "metadata": {},
   "outputs": [],
   "source": []
  },
  {
   "cell_type": "code",
   "execution_count": null,
   "id": "96bcb4f7",
   "metadata": {},
   "outputs": [],
   "source": []
  }
 ],
 "metadata": {
  "kernelspec": {
   "display_name": "Python 3 (ipykernel)",
   "language": "python",
   "name": "python3"
  },
  "language_info": {
   "codemirror_mode": {
    "name": "ipython",
    "version": 3
   },
   "file_extension": ".py",
   "mimetype": "text/x-python",
   "name": "python",
   "nbconvert_exporter": "python",
   "pygments_lexer": "ipython3",
   "version": "3.9.6"
  },
  "toc": {
   "base_numbering": 1,
   "nav_menu": {},
   "number_sections": true,
   "sideBar": true,
   "skip_h1_title": false,
   "title_cell": "Table of Contents",
   "title_sidebar": "Contents",
   "toc_cell": false,
   "toc_position": {},
   "toc_section_display": true,
   "toc_window_display": false
  }
 },
 "nbformat": 4,
 "nbformat_minor": 5
}
