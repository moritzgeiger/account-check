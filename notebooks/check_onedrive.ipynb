{
 "cells": [
  {
   "cell_type": "code",
   "execution_count": 1,
   "id": "8b1581e3",
   "metadata": {
    "ExecuteTime": {
     "end_time": "2022-01-18T19:26:27.700532Z",
     "start_time": "2022-01-18T19:26:27.607751Z"
    }
   },
   "outputs": [],
   "source": [
    "from azure.identity import InteractiveBrowserCredential\n",
    "from msgraph.core import GraphClient"
   ]
  },
  {
   "cell_type": "code",
   "execution_count": 2,
   "id": "3a0a6ddd",
   "metadata": {
    "ExecuteTime": {
     "end_time": "2022-01-18T19:26:27.756453Z",
     "start_time": "2022-01-18T19:26:27.753925Z"
    }
   },
   "outputs": [],
   "source": [
    "client_id = 'd5f0b309-f360-482d-8be2-dbd2e6aab632'"
   ]
  },
  {
   "cell_type": "code",
   "execution_count": 3,
   "id": "a731de72",
   "metadata": {
    "ExecuteTime": {
     "end_time": "2022-01-18T19:26:27.887364Z",
     "start_time": "2022-01-18T19:26:27.883733Z"
    }
   },
   "outputs": [],
   "source": [
    "browser_credential = InteractiveBrowserCredential(client_id=client_id)"
   ]
  },
  {
   "cell_type": "code",
   "execution_count": 4,
   "id": "81d2434d",
   "metadata": {
    "ExecuteTime": {
     "end_time": "2022-01-18T19:26:28.009182Z",
     "start_time": "2022-01-18T19:26:28.004731Z"
    }
   },
   "outputs": [],
   "source": [
    "client = GraphClient(credential=browser_credential)"
   ]
  },
  {
   "cell_type": "code",
   "execution_count": null,
   "id": "833752c0",
   "metadata": {
    "ExecuteTime": {
     "start_time": "2022-01-18T19:32:36.335Z"
    }
   },
   "outputs": [],
   "source": [
    "# result = client.get('/me')\n",
    "# print(result.json())"
   ]
  },
  {
   "cell_type": "code",
   "execution_count": null,
   "id": "b974ae42",
   "metadata": {},
   "outputs": [],
   "source": []
  },
  {
   "cell_type": "code",
   "execution_count": 2,
   "id": "9976cfaf",
   "metadata": {
    "ExecuteTime": {
     "end_time": "2022-01-18T19:38:25.104541Z",
     "start_time": "2022-01-18T19:38:24.681297Z"
    }
   },
   "outputs": [
    {
     "name": "stdout",
     "output_type": "stream",
     "text": [
      "{'error': 'invalid_request', 'error_description': \"AADSTS9002332: Application 'd5f0b309-f360-482d-8be2-dbd2e6aab632'(AccChecker) is configured for use by Azure Active Directory users only. Please do not use the /consumers endpoint to serve this request.\\r\\nTrace ID: a8e6eaef-3166-4d21-a810-08ea4d60620b\\r\\nCorrelation ID: 5fd9941c-52b4-42f5-a3eb-d19f0f2b9f6b\\r\\nTimestamp: 2022-01-18 19:38:25Z\", 'error_codes': [9002332], 'timestamp': '2022-01-18 19:38:25Z', 'trace_id': 'a8e6eaef-3166-4d21-a810-08ea4d60620b', 'correlation_id': '5fd9941c-52b4-42f5-a3eb-d19f0f2b9f6b', 'interval': 5, 'expires_in': 1800, 'expires_at': 1642536505.038568, '_correlation_id': '5fd9941c-52b4-42f5-a3eb-d19f0f2b9f6b'}\n"
     ]
    },
    {
     "ename": "Exception",
     "evalue": "Failed to create device flow",
     "output_type": "error",
     "traceback": [
      "\u001b[0;31m---------------------------------------------------------------------------\u001b[0m",
      "\u001b[0;31mException\u001b[0m                                 Traceback (most recent call last)",
      "Input \u001b[0;32mIn [2]\u001b[0m, in \u001b[0;36m<module>\u001b[0;34m\u001b[0m\n\u001b[1;32m     36\u001b[0m \u001b[38;5;28;01mif\u001b[39;00m \u001b[38;5;124m'\u001b[39m\u001b[38;5;124muser_code\u001b[39m\u001b[38;5;124m'\u001b[39m \u001b[38;5;129;01mnot\u001b[39;00m \u001b[38;5;129;01min\u001b[39;00m flow:\n\u001b[1;32m     37\u001b[0m     \u001b[38;5;28mprint\u001b[39m(flow)\n\u001b[0;32m---> 38\u001b[0m     \u001b[38;5;28;01mraise\u001b[39;00m \u001b[38;5;167;01mException\u001b[39;00m(\u001b[38;5;124m'\u001b[39m\u001b[38;5;124mFailed to create device flow\u001b[39m\u001b[38;5;124m'\u001b[39m)\n\u001b[1;32m     40\u001b[0m \u001b[38;5;28mprint\u001b[39m(flow[\u001b[38;5;124m'\u001b[39m\u001b[38;5;124mmessage\u001b[39m\u001b[38;5;124m'\u001b[39m])\n\u001b[1;32m     42\u001b[0m result \u001b[38;5;241m=\u001b[39m app\u001b[38;5;241m.\u001b[39macquire_token_by_device_flow(flow)\n",
      "\u001b[0;31mException\u001b[0m: Failed to create device flow"
     ]
    }
   ],
   "source": [
    "import requests\n",
    "import msal\n",
    "import atexit\n",
    "import os.path\n",
    "import urllib.parse\n",
    "\n",
    "TENANT_ID = 'consumers'\n",
    "CLIENT_ID = 'd5f0b309-f360-482d-8be2-dbd2e6aab632'\n",
    "\n",
    "AUTHORITY = 'https://login.microsoftonline.com/' + TENANT_ID\n",
    "ENDPOINT = 'https://graph.microsoft.com/v1.0'\n",
    "\n",
    "SCOPES = [\n",
    "    'Files.ReadWrite.All',\n",
    "    'Sites.ReadWrite.All',\n",
    "    'User.Read',\n",
    "    'User.ReadBasic.All'\n",
    "]\n",
    "\n",
    "cache = msal.SerializableTokenCache()\n",
    "\n",
    "if os.path.exists('token_cache.bin'):\n",
    "    cache.deserialize(open('token_cache.bin', 'r').read())\n",
    "\n",
    "atexit.register(lambda: open('token_cache.bin', 'w').write(cache.serialize()) if cache.has_state_changed else None)\n",
    "\n",
    "app = msal.PublicClientApplication(CLIENT_ID, authority=AUTHORITY, token_cache=cache)\n",
    "\n",
    "accounts = app.get_accounts()\n",
    "result = None\n",
    "if len(accounts) > 0:\n",
    "    result = app.acquire_token_silent(SCOPES, account=accounts[0])\n",
    "\n",
    "if result is None:\n",
    "    flow = app.initiate_device_flow(scopes=SCOPES)\n",
    "    if 'user_code' not in flow:\n",
    "        print(flow)\n",
    "        raise Exception('Failed to create device flow')\n",
    "\n",
    "    print(flow['message'])\n",
    "\n",
    "    result = app.acquire_token_by_device_flow(flow)\n",
    "\n",
    "if 'access_token' in result:\n",
    "    headers={'Authorization': 'Bearer ' + result['access_token']}\n",
    "    params={'allowexternal': 'true'}\n",
    "\n",
    "    folder = 'SaMo_Grundstücksverwaltungs_GbR'      # path in your OneDrive where file lives\n",
    "    filename = 'testmappe.xlsx'      # the file you want to download\n",
    "\n",
    "    # get the drive & file ID\n",
    "    file_path = f'{folder}/{filename}'\n",
    "    file_url = urllib.parse.quote(file_path)\n",
    "#     result = requests.get(f'{ENDPOINT}/me/drive/root:/{file_url}', headers=headers)\n",
    "    result = requests.get(f'{ENDPOINT}/me/drives', headers=headers, params=params)\n",
    "    print(result.content)\n",
    "    result.raise_for_status()\n",
    "    json = result.json()\n",
    "    drive_id = json['parentReference']['driveId']\n",
    "    file_id = json['id']\n",
    "\n",
    "    # download the file\n",
    "    result = requests.get(f'{ENDPOINT}/drives/{drive_id}/items/{file_id}/content', headers=headers)\n",
    "    open('testmappe.xlsx', 'wb').write(result.content)\n",
    "\n",
    "else:\n",
    "    raise Exception('no access token in result')"
   ]
  },
  {
   "cell_type": "code",
   "execution_count": 20,
   "id": "ece698f5",
   "metadata": {
    "ExecuteTime": {
     "end_time": "2022-01-18T19:12:34.138454Z",
     "start_time": "2022-01-18T19:12:34.112813Z"
    }
   },
   "outputs": [
    {
     "data": {
      "text/plain": [
       "{'@odata.context': 'https://graph.microsoft.com/v1.0/$metadata#drives',\n",
       " 'value': [{'createdDateTime': '2020-06-06T23:35:05Z',\n",
       "   'description': '',\n",
       "   'id': 'b!c8HSvzsl_0GG1UpekvMeGktCFpFl9IdFheZBDshkRgaxFsZaNYYBSLnPuizDMLDZ',\n",
       "   'lastModifiedDateTime': '2020-06-06T23:35:05Z',\n",
       "   'name': 'OneDrive',\n",
       "   'webUrl': 'https://stege387-my.sharepoint.com/personal/admin_stege387_onmicrosoft_com/Documents',\n",
       "   'driveType': 'business',\n",
       "   'createdBy': {'user': {'displayName': 'System Account'}},\n",
       "   'lastModifiedBy': {'user': {'displayName': 'System Account'}},\n",
       "   'owner': {'user': {'email': 'moritzgeiger@hotmail.de',\n",
       "     'id': '9e98d297-333a-4006-98c3-90a052598e2a',\n",
       "     'displayName': 'moritz geiger'}},\n",
       "   'quota': {'deleted': 0,\n",
       "    'remaining': 1099509994480,\n",
       "    'state': 'normal',\n",
       "    'total': 1099511627776,\n",
       "    'used': 1633296}}]}"
      ]
     },
     "execution_count": 20,
     "metadata": {},
     "output_type": "execute_result"
    }
   ],
   "source": [
    "di = {\"@odata.context\":\"https://graph.microsoft.com/v1.0/$metadata#drives\",\"value\":[{\"createdDateTime\":\"2020-06-06T23:35:05Z\",\"description\":\"\",\"id\":\"b!c8HSvzsl_0GG1UpekvMeGktCFpFl9IdFheZBDshkRgaxFsZaNYYBSLnPuizDMLDZ\",\"lastModifiedDateTime\":\"2020-06-06T23:35:05Z\",\"name\":\"OneDrive\",\"webUrl\":\"https://stege387-my.sharepoint.com/personal/admin_stege387_onmicrosoft_com/Documents\",\"driveType\":\"business\",\"createdBy\":{\"user\":{\"displayName\":\"System Account\"}},\"lastModifiedBy\":{\"user\":{\"displayName\":\"System Account\"}},\"owner\":{\"user\":{\"email\":\"moritzgeiger@hotmail.de\",\"id\":\"9e98d297-333a-4006-98c3-90a052598e2a\",\"displayName\":\"moritz geiger\"}},\"quota\":{\"deleted\":0,\"remaining\":1099509994480,\"state\":\"normal\",\"total\":1099511627776,\"used\":1633296}}]}\n",
    "di    \n",
    "           \n",
    "           \n",
    "           "
   ]
  },
  {
   "cell_type": "code",
   "execution_count": null,
   "id": "f0126c16",
   "metadata": {},
   "outputs": [],
   "source": []
  },
  {
   "cell_type": "code",
   "execution_count": null,
   "id": "8982e5c8",
   "metadata": {},
   "outputs": [],
   "source": []
  },
  {
   "cell_type": "code",
   "execution_count": null,
   "id": "96bcb4f7",
   "metadata": {},
   "outputs": [],
   "source": []
  }
 ],
 "metadata": {
  "kernelspec": {
   "display_name": "Python 3 (ipykernel)",
   "language": "python",
   "name": "python3"
  },
  "language_info": {
   "codemirror_mode": {
    "name": "ipython",
    "version": 3
   },
   "file_extension": ".py",
   "mimetype": "text/x-python",
   "name": "python",
   "nbconvert_exporter": "python",
   "pygments_lexer": "ipython3",
   "version": "3.9.0"
  },
  "toc": {
   "base_numbering": 1,
   "nav_menu": {},
   "number_sections": true,
   "sideBar": true,
   "skip_h1_title": false,
   "title_cell": "Table of Contents",
   "title_sidebar": "Contents",
   "toc_cell": false,
   "toc_position": {},
   "toc_section_display": true,
   "toc_window_display": false
  }
 },
 "nbformat": 4,
 "nbformat_minor": 5
}
