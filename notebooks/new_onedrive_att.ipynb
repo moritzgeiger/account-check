{
 "cells": [
  {
   "cell_type": "markdown",
   "id": "42932fe1",
   "metadata": {},
   "source": [
    "# Imports"
   ]
  },
  {
   "cell_type": "markdown",
   "id": "08bde9fa",
   "metadata": {},
   "source": [
    "url = 'https://github.com/areed1192/ms-graph-python-client/blob/22c3386b9b1d5832fbedea5686dc0637b83127a8/ms_graph/client.py#L289'\n"
   ]
  },
  {
   "cell_type": "code",
   "execution_count": 5,
   "id": "6d00658f",
   "metadata": {},
   "outputs": [],
   "source": [
    "from azure.identity import InteractiveBrowserCredential\n",
    "from msgraph.core import GraphClient\n",
    "from configparser import ConfigParser\n",
    "# from ms_graph.clientimport import MicrosoftGraphClient\n",
    "from dotenv import load_dotenv, find_dotenv\n",
    "import msal\n",
    "load_dotenv(find_dotenv())\n",
    "import urllib\n",
    "import requests\n",
    "\n",
    "import os"
   ]
  },
  {
   "cell_type": "code",
   "execution_count": 6,
   "id": "a34388ce",
   "metadata": {},
   "outputs": [],
   "source": [
    "load_dotenv(find_dotenv())\n",
    "\n",
    "TENANT_ID = os.environ.get('TENANT_ID')\n",
    "CLIENT_ID = os.environ.get('CLIENT_ID')\n",
    "\n",
    "AUTHORITY = os.environ.get('AUTHORITY') + TENANT_ID\n",
    "ENDPOINT = os.environ.get('ENDPOINT')\n",
    "CLIENT_ID = os.environ.get('CLIENT_ID')\n",
    "client_secret = os.environ.get('client_secret')\n",
    "# ENDPOINT"
   ]
  },
  {
   "cell_type": "code",
   "execution_count": 5,
   "id": "c19323ff",
   "metadata": {},
   "outputs": [
    {
     "name": "stdout",
     "output_type": "stream",
     "text": [
      "Please go to URL provided authorize your account: https://login.microsoftonline.com/common/oauth2/v2.0/authorize?client_id=294557b9-b377-442d-8791-882e0bf30533&response_type=code&redirect_uri=http%3A%2F%2Flocalhost%3A8888%2Fnotebooks%2Fnotebooks%2Fnew_onedrive_att.ipynb&scope=Files.ReadWrite.All+Sites.ReadWrite.All+User.Read+User.ReadBasic.All+offline_access+openid+profile&state=ABC\n"
     ]
    }
   ],
   "source": [
    "RESOURCE = \"https://graph.microsoft.com/\"\n",
    "\n",
    "AUTHORITY_URL = \"https://login.microsoftonline.com/\"\n",
    "AUTH_ENDPOINT = \"/oauth2/v2.0/authorize?\"\n",
    "TOKEN_ENDPOINT = \"/oauth2/v2.0/token\"\n",
    "account_type = 'common'\n",
    "redirect_uri = 'http://localhost:8888/notebooks/notebooks/new_onedrive_att.ipynb'\n",
    "\n",
    "SCOPES = [\n",
    "    'Files.ReadWrite.All',\n",
    "    'Sites.ReadWrite.All',\n",
    "    'User.Read',\n",
    "    'User.ReadBasic.All'\n",
    "]\n",
    "\n",
    "graph_url = AUTHORITY_URL + account_type + AUTH_ENDPOINT\n",
    "client_app = msal.ConfidentialClientApplication(\n",
    "            client_id=CLIENT_ID,\n",
    "            authority=AUTHORITY_URL + account_type,\n",
    "            client_credential=client_secret,\n",
    "        )\n",
    "\n",
    "\n",
    "auth_url = client_app.get_authorization_request_url(scopes=SCOPES, \n",
    "                                                     state='ABC', \n",
    "                                                     redirect_uri=redirect_uri)\n",
    "\n",
    "print(f\"Please go to URL provided authorize your account: {auth_url}\")\n",
    "\n"
   ]
  },
  {
   "cell_type": "code",
   "execution_count": 7,
   "id": "b83cec11",
   "metadata": {},
   "outputs": [],
   "source": [
    "token_dict = client_app.acquire_token_by_authorization_code(code='M.R3_BAY.dab53f87-e47b-aecd-15e6-988b6f9839a0', \n",
    "                                                                 scopes=SCOPES, \n",
    "                                                                 redirect_uri=redirect_uri)\n",
    "\n",
    "\n"
   ]
  },
  {
   "cell_type": "code",
   "execution_count": 8,
   "id": "6258de03",
   "metadata": {},
   "outputs": [],
   "source": [
    "token = token_dict['access_token']"
   ]
  },
  {
   "cell_type": "code",
   "execution_count": 11,
   "id": "211221c3",
   "metadata": {},
   "outputs": [],
   "source": [
    "headers={'Authorization': 'Bearer ' + token_dict['access_token']}\n",
    "params={'allowexternal': 'true'}\n",
    "# print(f'headers: {headers}')\n",
    "\n",
    "folder = 'SaMo_Grundstücksverwaltungs_GbR'      # path in your OneDrive where file lives\n",
    "filename = 'testmappe.xlsx'      # the file you want to download\n",
    "\n",
    "# get the drive & file ID\n",
    "file_path = f'{folder}/{filename}'\n",
    "file_url = urllib.parse.quote(file_path)\n",
    "\n",
    "drive_id = '70aa8ea98388698d'\n",
    "result = requests.get(f'{ENDPOINT}/drives/{drive_id}/root/children', headers=headers, params=params)\n",
    "\n"
   ]
  },
  {
   "cell_type": "code",
   "execution_count": 20,
   "id": "9f921404",
   "metadata": {},
   "outputs": [
    {
     "name": "stdout",
     "output_type": "stream",
     "text": [
      "70AA8EA98388698D!4902 4SMG\n",
      "70AA8EA98388698D!4136 Documents\n",
      "70AA8EA98388698D!4157 Dokumente\n",
      "70AA8EA98388698D!4898 Geigerwünsche\n",
      "70AA8EA98388698D!4107 OneNotes\n",
      "70AA8EA98388698D!823 Pictures\n",
      "70AA8EA98388698D!4836 SaMo _Grundstücksverwaltungs_GbR\n",
      "70AA8EA98388698D!4664 Testordner_papa\n",
      "70AA8EA98388698D!4890 210529_Al_Ali_Mietvertrag.pdf\n",
      "70AA8EA98388698D!4623 data.xlsx\n"
     ]
    }
   ],
   "source": [
    "for val in result.json().get('value'):\n",
    "    print(val.get('id'), val.get('name'))"
   ]
  },
  {
   "cell_type": "code",
   "execution_count": 21,
   "id": "6e2dd2b4",
   "metadata": {},
   "outputs": [
    {
     "data": {
      "text/plain": [
       "{'4SMG': '70AA8EA98388698D!4902',\n",
       " 'Documents': '70AA8EA98388698D!4136',\n",
       " 'Dokumente': '70AA8EA98388698D!4157',\n",
       " 'Geigerwünsche': '70AA8EA98388698D!4898',\n",
       " 'OneNotes': '70AA8EA98388698D!4107',\n",
       " 'Pictures': '70AA8EA98388698D!823',\n",
       " 'SaMo _Grundstücksverwaltungs_GbR': '70AA8EA98388698D!4836',\n",
       " 'Testordner_papa': '70AA8EA98388698D!4664',\n",
       " '210529_Al_Ali_Mietvertrag.pdf': '70AA8EA98388698D!4890',\n",
       " 'data.xlsx': '70AA8EA98388698D!4623'}"
      ]
     },
     "execution_count": 21,
     "metadata": {},
     "output_type": "execute_result"
    }
   ],
   "source": [
    "{val.get('name'): val.get('id') for val in result.json().get('value')}"
   ]
  },
  {
   "cell_type": "code",
   "execution_count": null,
   "id": "c396991d",
   "metadata": {},
   "outputs": [],
   "source": []
  }
 ],
 "metadata": {
  "kernelspec": {
   "display_name": "Python 3 (ipykernel)",
   "language": "python",
   "name": "python3"
  },
  "language_info": {
   "codemirror_mode": {
    "name": "ipython",
    "version": 3
   },
   "file_extension": ".py",
   "mimetype": "text/x-python",
   "name": "python",
   "nbconvert_exporter": "python",
   "pygments_lexer": "ipython3",
   "version": "3.9.6"
  },
  "toc": {
   "base_numbering": 1,
   "nav_menu": {},
   "number_sections": true,
   "sideBar": true,
   "skip_h1_title": false,
   "title_cell": "Table of Contents",
   "title_sidebar": "Contents",
   "toc_cell": false,
   "toc_position": {},
   "toc_section_display": true,
   "toc_window_display": false
  }
 },
 "nbformat": 4,
 "nbformat_minor": 5
}
