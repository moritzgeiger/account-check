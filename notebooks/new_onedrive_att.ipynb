{
 "cells": [
  {
   "cell_type": "markdown",
   "id": "42932fe1",
   "metadata": {},
   "source": [
    "# Imports"
   ]
  },
  {
   "cell_type": "markdown",
   "id": "08bde9fa",
   "metadata": {},
   "source": [
    "url = 'https://github.com/areed1192/ms-graph-python-client/blob/22c3386b9b1d5832fbedea5686dc0637b83127a8/ms_graph/client.py#L289'\n"
   ]
  },
  {
   "cell_type": "code",
   "execution_count": 5,
   "id": "6d00658f",
   "metadata": {},
   "outputs": [],
   "source": [
    "from azure.identity import InteractiveBrowserCredential\n",
    "from msgraph.core import GraphClient\n",
    "from configparser import ConfigParser\n",
    "# from ms_graph.clientimport import MicrosoftGraphClient\n",
    "from dotenv import load_dotenv, find_dotenv\n",
    "import msal\n",
    "load_dotenv(find_dotenv())\n",
    "import urllib\n",
    "import requests\n",
    "\n",
    "import os"
   ]
  },
  {
   "cell_type": "code",
   "execution_count": 6,
   "id": "a34388ce",
   "metadata": {},
   "outputs": [],
   "source": [
    "load_dotenv(find_dotenv())\n",
    "\n",
    "TENANT_ID = os.environ.get('TENANT_ID')\n",
    "CLIENT_ID = os.environ.get('CLIENT_ID')\n",
    "\n",
    "AUTHORITY = os.environ.get('AUTHORITY') + TENANT_ID\n",
    "ENDPOINT = os.environ.get('ENDPOINT')\n",
    "CLIENT_ID = os.environ.get('CLIENT_ID')\n",
    "client_secret = os.environ.get('client_secret')\n",
    "# ENDPOINT"
   ]
  },
  {
   "cell_type": "code",
   "execution_count": 5,
   "id": "c19323ff",
   "metadata": {},
   "outputs": [
    {
     "name": "stdout",
     "output_type": "stream",
     "text": [
      "Please go to URL provided authorize your account: https://login.microsoftonline.com/common/oauth2/v2.0/authorize?client_id=294557b9-b377-442d-8791-882e0bf30533&response_type=code&redirect_uri=http%3A%2F%2Flocalhost%3A8888%2Fnotebooks%2Fnotebooks%2Fnew_onedrive_att.ipynb&scope=Files.ReadWrite.All+Sites.ReadWrite.All+User.Read+User.ReadBasic.All+offline_access+openid+profile&state=ABC\n"
     ]
    }
   ],
   "source": [
    "RESOURCE = \"https://graph.microsoft.com/\"\n",
    "\n",
    "AUTHORITY_URL = \"https://login.microsoftonline.com/\"\n",
    "AUTH_ENDPOINT = \"/oauth2/v2.0/authorize?\"\n",
    "TOKEN_ENDPOINT = \"/oauth2/v2.0/token\"\n",
    "account_type = 'common'\n",
    "redirect_uri = 'http://localhost:8888/notebooks/notebooks/new_onedrive_att.ipynb'\n",
    "\n",
    "SCOPES = [\n",
    "    'Files.ReadWrite.All',\n",
    "    'Sites.ReadWrite.All',\n",
    "    'User.Read',\n",
    "    'User.ReadBasic.All'\n",
    "]\n",
    "\n",
    "graph_url = AUTHORITY_URL + account_type + AUTH_ENDPOINT\n",
    "client_app = msal.ConfidentialClientApplication(\n",
    "            client_id=CLIENT_ID,\n",
    "            authority=AUTHORITY_URL + account_type,\n",
    "            client_credential=client_secret,\n",
    "        )\n",
    "\n",
    "\n",
    "auth_url = client_app.get_authorization_request_url(scopes=SCOPES, \n",
    "                                                     state='ABC', \n",
    "                                                     redirect_uri=redirect_uri)\n",
    "\n",
    "print(f\"Please go to URL provided authorize your account: {auth_url}\")\n",
    "\n"
   ]
  },
  {
   "cell_type": "code",
   "execution_count": 23,
   "id": "b83cec11",
   "metadata": {
    "ExecuteTime": {
     "end_time": "2022-02-06T15:26:18.751194Z",
     "start_time": "2022-02-06T15:26:18.092453Z"
    }
   },
   "outputs": [],
   "source": [
    "token_dict = client_app.acquire_token_by_authorization_code(code='M.R3_BAY.4faeb31f-4c0b-5dcc-1338-b116ef8a63c9', \n",
    "                                                                 scopes=SCOPES, \n",
    "                                                                 redirect_uri=redirect_uri)\n",
    "\n",
    "\n"
   ]
  },
  {
   "cell_type": "code",
   "execution_count": 24,
   "id": "6258de03",
   "metadata": {
    "ExecuteTime": {
     "end_time": "2022-02-06T15:26:18.759782Z",
     "start_time": "2022-02-06T15:26:18.755461Z"
    }
   },
   "outputs": [],
   "source": [
    "token = token_dict['access_token']"
   ]
  },
  {
   "cell_type": "code",
   "execution_count": 25,
   "id": "b0f416c5",
   "metadata": {
    "ExecuteTime": {
     "end_time": "2022-02-06T15:26:18.926517Z",
     "start_time": "2022-02-06T15:26:18.920973Z"
    }
   },
   "outputs": [
    {
     "data": {
      "text/plain": [
       "'EwBwA8l6BAAUwihrrCrmQ4wuIJX5mbj7rQla6TUAAQ6G1AEjeGTDUyT0zVL765dkyvgU+tos7rPi05jrXr7rHobWPMt5hKmA7tP/U9m17dqSrFAQKyWu7URnFMLAwLuij+bkFj0YqRvzN5Z6mA3PIl67D36N9u90Jl8AQeyu4D6kb/RCexmDDWpdj8i8595gJbgyAHazNAzKJMASbVz33Kak2RNaANrE0Sw3ZQ8MJGl5w2lNAhjA6z6sePi5LTpESsV6UVaQ0GvKJvwuoGqftFEtzlkweZZlWFJEAuvKNaAwxrtlVMmeRq2q+2ZRirmv4pFAVC0h9cn6IA2sIYnM9K4aZ+26Zf5UdejAtAzTVrjLjpm6E44l17yZAApU7WADZgAACChqGyRSNgXHQALgExOUx42D1mUGeMUOhNDmCYFOgNpbKTEA/J0nWKqV3WsW6jvNxEIWLcTiRRGa5H/UbdrZCBl8YfMuubFqgvi7MQidfaPYevuYHNVNJVmHRWTefqVuFcFopJZAQr67oeAmu76UNsHiGDm3AlWRfTmRQcC99JSCAb+CKDcjlpVXZcMUjCC6Hx5XlvTpg46JTPAbCLHbs2Zs6/xLtFFIS6yfrZhAfJZi8EaB19BtjqLbWfuGC+9H/EGeAKcABGW/zw97mmKwzIkguamHt44/zqgKbCG4IfnIdgWAA8ET2hromKab0wRPx84CTbUrfenHtsaeK2pd9TN1W2XCLpsoRHF/tNS4wl6q7DsMYvi1l5YglWhezQ2s3/Q6LHoYW4+VZMIn/lPh9a38p79n+h2ixhjEYd6ieihYN76T89lhqeCy+luWmCta9n6tP8lmOb1dOHiCeZ8RBq7IeJilQ26apanNqGhcFYKZYLxGZWassWItAiLyt+VDHr3id8X1JFjcWZKetIJFEu7bq0/SsvbJK1tcgaScR08s9VPnsGuMGmN60Lp2D3E5yOmeigCO2DrTrcp0F2ATtsC5RCcD6nL2MsExhY1P2uzB3ALBcTHGZnrGSnITICLUxRktpEE+QqrRSXFqqTezrF1xzKzjipu/nffTD0VFm82m+AQ31FPyhDViqRictjblhFc8PuMTqz8ITIbto1oEqBN1MxhzHeF+V+6SuzSy8mz7rdEmkc2VUMWsWVqpK4xHFf6RMqX97raIWNJ9Ag=='"
      ]
     },
     "execution_count": 25,
     "metadata": {},
     "output_type": "execute_result"
    }
   ],
   "source": [
    "token"
   ]
  },
  {
   "cell_type": "markdown",
   "id": "cb06db57",
   "metadata": {},
   "source": [
    "### GEt drive ID"
   ]
  },
  {
   "cell_type": "code",
   "execution_count": 10,
   "id": "b072891c",
   "metadata": {
    "ExecuteTime": {
     "end_time": "2022-02-06T15:17:11.976303Z",
     "start_time": "2022-02-06T15:17:11.729841Z"
    }
   },
   "outputs": [],
   "source": [
    "headers={'Authorization': 'Bearer ' + token_dict['access_token']}\n",
    "params={'allowexternal': 'true'}\n",
    "result = requests.get(f'{ENDPOINT}/me/drives', headers=headers, params=params)\n"
   ]
  },
  {
   "cell_type": "code",
   "execution_count": 15,
   "id": "d9fec188",
   "metadata": {
    "ExecuteTime": {
     "end_time": "2022-02-06T15:17:53.094204Z",
     "start_time": "2022-02-06T15:17:53.088767Z"
    }
   },
   "outputs": [
    {
     "data": {
      "text/plain": [
       "'70aa8ea98388698d'"
      ]
     },
     "execution_count": 15,
     "metadata": {},
     "output_type": "execute_result"
    }
   ],
   "source": [
    "drive_id = result.json().get('value')[0].get('id')"
   ]
  },
  {
   "cell_type": "markdown",
   "id": "ed5cfcf2",
   "metadata": {},
   "source": [
    "### Get folders"
   ]
  },
  {
   "cell_type": "code",
   "execution_count": 26,
   "id": "7fae0104",
   "metadata": {
    "ExecuteTime": {
     "end_time": "2022-02-06T15:26:39.933955Z",
     "start_time": "2022-02-06T15:26:39.930798Z"
    }
   },
   "outputs": [],
   "source": [
    "drive_id = '70aa8ea98388698d'"
   ]
  },
  {
   "cell_type": "code",
   "execution_count": 27,
   "id": "211221c3",
   "metadata": {
    "ExecuteTime": {
     "end_time": "2022-02-06T15:26:40.382237Z",
     "start_time": "2022-02-06T15:26:40.158995Z"
    }
   },
   "outputs": [],
   "source": [
    "result = requests.get(f'{ENDPOINT}/drives/{drive_id}/root/children', headers=headers, params=params)\n"
   ]
  },
  {
   "cell_type": "code",
   "execution_count": 28,
   "id": "9f921404",
   "metadata": {
    "ExecuteTime": {
     "end_time": "2022-02-06T15:26:42.106857Z",
     "start_time": "2022-02-06T15:26:42.100655Z"
    }
   },
   "outputs": [
    {
     "name": "stdout",
     "output_type": "stream",
     "text": [
      "70AA8EA98388698D!4902 4SMG\n",
      "70AA8EA98388698D!4136 Documents\n",
      "70AA8EA98388698D!4157 Dokumente\n",
      "70AA8EA98388698D!4898 Geigerwünsche\n",
      "70AA8EA98388698D!4107 OneNotes\n",
      "70AA8EA98388698D!823 Pictures\n",
      "70AA8EA98388698D!4836 SaMo _Grundstücksverwaltungs_GbR\n",
      "70AA8EA98388698D!4664 Testordner_papa\n",
      "70AA8EA98388698D!4890 210529_Al_Ali_Mietvertrag.pdf\n",
      "70AA8EA98388698D!4623 data.xlsx\n"
     ]
    }
   ],
   "source": [
    "for val in result.json().get('value'):\n",
    "    print(val.get('id'), val.get('name'))"
   ]
  },
  {
   "cell_type": "code",
   "execution_count": 21,
   "id": "6e2dd2b4",
   "metadata": {},
   "outputs": [
    {
     "data": {
      "text/plain": [
       "{'4SMG': '70AA8EA98388698D!4902',\n",
       " 'Documents': '70AA8EA98388698D!4136',\n",
       " 'Dokumente': '70AA8EA98388698D!4157',\n",
       " 'Geigerwünsche': '70AA8EA98388698D!4898',\n",
       " 'OneNotes': '70AA8EA98388698D!4107',\n",
       " 'Pictures': '70AA8EA98388698D!823',\n",
       " 'SaMo _Grundstücksverwaltungs_GbR': '70AA8EA98388698D!4836',\n",
       " 'Testordner_papa': '70AA8EA98388698D!4664',\n",
       " '210529_Al_Ali_Mietvertrag.pdf': '70AA8EA98388698D!4890',\n",
       " 'data.xlsx': '70AA8EA98388698D!4623'}"
      ]
     },
     "execution_count": 21,
     "metadata": {},
     "output_type": "execute_result"
    }
   ],
   "source": [
    "{val.get('name'): val.get('id') for val in result.json().get('value')}"
   ]
  },
  {
   "cell_type": "markdown",
   "id": "2c68e0d1",
   "metadata": {},
   "source": [
    "### Get file"
   ]
  },
  {
   "cell_type": "code",
   "execution_count": 29,
   "id": "f9a314b6",
   "metadata": {
    "ExecuteTime": {
     "end_time": "2022-02-06T15:26:49.810285Z",
     "start_time": "2022-02-06T15:26:49.807180Z"
    }
   },
   "outputs": [],
   "source": [
    "item_id = \"70AA8EA98388698D!4836\""
   ]
  },
  {
   "cell_type": "code",
   "execution_count": 32,
   "id": "2c54b28d",
   "metadata": {
    "ExecuteTime": {
     "end_time": "2022-02-06T15:27:01.686254Z",
     "start_time": "2022-02-06T15:27:01.504347Z"
    }
   },
   "outputs": [
    {
     "data": {
      "text/plain": [
       "<Response [200]>"
      ]
     },
     "execution_count": 32,
     "metadata": {},
     "output_type": "execute_result"
    }
   ],
   "source": [
    "result = requests.get(f'{ENDPOINT}/me/drive/items/{item_id}/children', headers=headers, params=params)\n",
    "result"
   ]
  },
  {
   "cell_type": "code",
   "execution_count": 33,
   "id": "cfc4009d",
   "metadata": {
    "ExecuteTime": {
     "end_time": "2022-02-06T15:27:01.995494Z",
     "start_time": "2022-02-06T15:27:01.990027Z"
    }
   },
   "outputs": [
    {
     "data": {
      "text/plain": [
       "{'@odata.context': \"https://graph.microsoft.com/v1.0/$metadata#users('moritzgeiger%40hotmail.de')/drive/items('70AA8EA98388698D%214836')/children\",\n",
       " '@odata.count': 0,\n",
       " 'value': []}"
      ]
     },
     "execution_count": 33,
     "metadata": {},
     "output_type": "execute_result"
    }
   ],
   "source": [
    "result.json()"
   ]
  },
  {
   "cell_type": "code",
   "execution_count": null,
   "id": "9e031e59",
   "metadata": {},
   "outputs": [],
   "source": []
  },
  {
   "cell_type": "code",
   "execution_count": null,
   "id": "901af454",
   "metadata": {},
   "outputs": [],
   "source": []
  },
  {
   "cell_type": "code",
   "execution_count": null,
   "id": "2a2ff8a0",
   "metadata": {},
   "outputs": [],
   "source": []
  },
  {
   "cell_type": "code",
   "execution_count": null,
   "id": "6e7d998b",
   "metadata": {},
   "outputs": [],
   "source": []
  },
  {
   "cell_type": "code",
   "execution_count": null,
   "id": "41f1d861",
   "metadata": {},
   "outputs": [],
   "source": []
  }
 ],
 "metadata": {
  "kernelspec": {
   "display_name": "Python 3 (ipykernel)",
   "language": "python",
   "name": "python3"
  },
  "language_info": {
   "codemirror_mode": {
    "name": "ipython",
    "version": 3
   },
   "file_extension": ".py",
   "mimetype": "text/x-python",
   "name": "python",
   "nbconvert_exporter": "python",
   "pygments_lexer": "ipython3",
   "version": "3.9.0"
  },
  "toc": {
   "base_numbering": 1,
   "nav_menu": {},
   "number_sections": true,
   "sideBar": true,
   "skip_h1_title": false,
   "title_cell": "Table of Contents",
   "title_sidebar": "Contents",
   "toc_cell": false,
   "toc_position": {},
   "toc_section_display": true,
   "toc_window_display": false
  }
 },
 "nbformat": 4,
 "nbformat_minor": 5
}
