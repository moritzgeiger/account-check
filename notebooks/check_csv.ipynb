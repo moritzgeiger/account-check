{
 "cells": [
  {
   "cell_type": "markdown",
   "id": "1f3e1f44",
   "metadata": {},
   "source": [
    "# Imports"
   ]
  },
  {
   "cell_type": "code",
   "execution_count": 1,
   "id": "29474394",
   "metadata": {},
   "outputs": [],
   "source": [
    "import pandas as pd\n",
    "import json"
   ]
  },
  {
   "cell_type": "code",
   "execution_count": 2,
   "id": "e5760e7e",
   "metadata": {},
   "outputs": [
    {
     "ename": "NameError",
     "evalue": "name 'csv' is not defined",
     "output_type": "error",
     "traceback": [
      "\u001b[0;31m---------------------------------------------------------------------------\u001b[0m",
      "\u001b[0;31mNameError\u001b[0m                                 Traceback (most recent call last)",
      "Input \u001b[0;32mIn [2]\u001b[0m, in \u001b[0;36m<module>\u001b[0;34m\u001b[0m\n\u001b[0;32m----> 1\u001b[0m reader \u001b[38;5;241m=\u001b[39m \u001b[43mcsv\u001b[49m\u001b[38;5;241m.\u001b[39mreader(\u001b[38;5;28mopen\u001b[39m(path,  encoding\u001b[38;5;241m=\u001b[39m\u001b[38;5;124m\"\u001b[39m\u001b[38;5;124mISO-8859-1\u001b[39m\u001b[38;5;124m\"\u001b[39m), delimiter\u001b[38;5;241m=\u001b[39m\u001b[38;5;124m'\u001b[39m\u001b[38;5;124m;\u001b[39m\u001b[38;5;124m'\u001b[39m)\n",
      "\u001b[0;31mNameError\u001b[0m: name 'csv' is not defined"
     ]
    }
   ],
   "source": [
    "reader = csv.reader(open(path,  encoding=\"ISO-8859-1\"), delimiter=';')\n",
    "# for row in reader:\n",
    "#     print(row)"
   ]
  },
  {
   "cell_type": "markdown",
   "id": "eca69c99",
   "metadata": {},
   "source": [
    "# CSV"
   ]
  },
  {
   "cell_type": "code",
   "execution_count": 12,
   "id": "a580db58",
   "metadata": {},
   "outputs": [],
   "source": [
    "path = '../raw_data/test_start_15.csv'\n",
    "# json.load(open(\"../app/config.json\"))"
   ]
  },
  {
   "cell_type": "code",
   "execution_count": 13,
   "id": "83600404",
   "metadata": {},
   "outputs": [
    {
     "name": "stdout",
     "output_type": "stream",
     "text": [
      "<class 'pandas.core.frame.DataFrame'>\n",
      "RangeIndex: 245 entries, 0 to 244\n",
      "Data columns (total 14 columns):\n",
      " #   Column                    Non-Null Count  Dtype         \n",
      "---  ------                    --------------  -----         \n",
      " 0   Buchungstag               244 non-null    datetime64[ns]\n",
      " 1   Valuta                    242 non-null    datetime64[ns]\n",
      " 2   Textschlüssel             242 non-null    object        \n",
      " 3   Primanota                 242 non-null    float64       \n",
      " 4   Zahlungsempfänger         232 non-null    object        \n",
      " 5   ZahlungsempfängerKto      242 non-null    float64       \n",
      " 6   ZahlungsempfängerIBAN     229 non-null    object        \n",
      " 7   ZahlungsempfängerBLZ      229 non-null    float64       \n",
      " 8   ZahlungsempfängerBIC      229 non-null    object        \n",
      " 9   Vorgang/Verwendungszweck  242 non-null    object        \n",
      " 10  Kundenreferenz            111 non-null    object        \n",
      " 11  Währung                   244 non-null    object        \n",
      " 12  Umsatz                    244 non-null    float64       \n",
      " 13  Soll/Haben                244 non-null    object        \n",
      "dtypes: datetime64[ns](2), float64(4), object(8)\n",
      "memory usage: 26.9+ KB\n"
     ]
    }
   ],
   "source": [
    "date_columns = ['Buchungstag', 'Valuta']\n",
    "df = pd.read_csv(path, \n",
    "                 sep=';', \n",
    "                 skiprows=15, \n",
    "                 encoding=\"ISO-8859-1\", \n",
    "                 decimal=',', \n",
    "                 thousands='.',\n",
    "                 parse_dates=date_columns, \n",
    "                 dayfirst=True,\n",
    "                )\n",
    "df['Umsatz'] = df.Umsatz.astype(float)\n",
    "df.info()"
   ]
  },
  {
   "cell_type": "code",
   "execution_count": 15,
   "id": "4f9c3cde",
   "metadata": {},
   "outputs": [
    {
     "data": {
      "text/plain": [
       "0     2022-01-14\n",
       "1     2022-01-14\n",
       "2     2022-01-14\n",
       "3     2022-01-14\n",
       "4     2022-01-05\n",
       "         ...    \n",
       "240   2021-03-01\n",
       "241   2021-03-01\n",
       "242          NaT\n",
       "243   2021-03-01\n",
       "244   2022-01-14\n",
       "Name: Buchungstag, Length: 245, dtype: datetime64[ns]"
      ]
     },
     "execution_count": 15,
     "metadata": {},
     "output_type": "execute_result"
    }
   ],
   "source": [
    "df.Buchungstag"
   ]
  },
  {
   "cell_type": "code",
   "execution_count": 82,
   "id": "506e8b0d",
   "metadata": {},
   "outputs": [
    {
     "data": {
      "text/plain": [
       "'2022-01-14 00:00:002022-01-14 00:00:0005 Auszahlung girocard931.0Sparda-Bank Baden-W rttemberg0.0DE8460090800129914008060090800.0GENODEF1S02Lastschrift-Kartenzahlung Sparda-Bank Baden-Wuer/74840 Ulm S/DE                 14.01.2022 um 08:37:27 Uhr GA 60090800/00074840/05663363090100/0012794007/0/1222 REF 958273/26002100074840056633140122083727EUR80.0S'"
      ]
     },
     "execution_count": 82,
     "metadata": {},
     "output_type": "execute_result"
    }
   ],
   "source": [
    "row = df.iloc[0]\n",
    "''.join(row.astype(str))"
   ]
  },
  {
   "cell_type": "code",
   "execution_count": 27,
   "id": "b71afb4c",
   "metadata": {},
   "outputs": [],
   "source": [
    "sel_account = '010.000 (Mieteingang EG)'\n",
    "file_pdf = None\n",
    "info = 'info field test'\n",
    "unique_n = 102"
   ]
  },
  {
   "cell_type": "code",
   "execution_count": 67,
   "id": "79aef6bd",
   "metadata": {},
   "outputs": [],
   "source": [
    "df_dict = {}\n",
    "df_dict['Konto'] = [sel_account[:6]]\n",
    "df_dict['Kontoauswahl'] = [sel_account]\n",
    "df_dict['Datum'] = [row.Buchungstag]\n",
    "df_dict['Monat'] = [row.Buchungstag.month]\n",
    "if file_pdf:\n",
    "    df_dict['Beleg'] = [file_pdf.name]\n",
    "else:\n",
    "    df_dict['Beleg'] = ['Account']\n",
    "df_dict['Beschreibung'] = [info]\n",
    "df_dict['Ort'] = ['Invoice folder']\n",
    "df_dict['interne Ablage'] = [unique_n]\n",
    "df_dict['Betrag'] = [row.Umsatz]\n",
    "row_transformed = pd.DataFrame(df_dict)"
   ]
  },
  {
   "cell_type": "code",
   "execution_count": 76,
   "id": "c4f1edd6",
   "metadata": {},
   "outputs": [
    {
     "name": "stdout",
     "output_type": "stream",
     "text": [
      "2\n"
     ]
    }
   ],
   "source": [
    "import openpyxl\n",
    "# load excel with its path\n",
    "wb = openpyxl.load_workbook(EXCEL_DIRECTORY).active\n",
    "print(wb.max_row)"
   ]
  },
  {
   "cell_type": "code",
   "execution_count": null,
   "id": "3a28934a",
   "metadata": {},
   "outputs": [],
   "source": []
  },
  {
   "cell_type": "code",
   "execution_count": 116,
   "id": "6be393ed",
   "metadata": {},
   "outputs": [],
   "source": [
    "uniqueness = ''.join(row.astype(str))"
   ]
  },
  {
   "cell_type": "code",
   "execution_count": 117,
   "id": "ddf4f57f",
   "metadata": {},
   "outputs": [
    {
     "data": {
      "text/plain": [
       "'2022-01-14 00:00:002022-01-14 00:00:0005 Auszahlung girocard931.0Sparda-Bank Baden-W rttemberg0.0DE8460090800129914008060090800.0GENODEF1S02Lastschrift-Kartenzahlung Sparda-Bank Baden-Wuer/74840 Ulm S/DE                 14.01.2022 um 08:37:27 Uhr GA 60090800/00074840/05663363090100/0012794007/0/1222 REF 958273/26002100074840056633140122083727EUR80.0S'"
      ]
     },
     "execution_count": 117,
     "metadata": {},
     "output_type": "execute_result"
    }
   ],
   "source": [
    "uniqueness"
   ]
  },
  {
   "cell_type": "code",
   "execution_count": 161,
   "id": "19029597",
   "metadata": {},
   "outputs": [
    {
     "name": "stdout",
     "output_type": "stream",
     "text": [
      "ye\n"
     ]
    }
   ],
   "source": [
    "from openpyxl import load_workbook\n",
    "wb = load_workbook(filename = EXCEL_DIRECTORY)\n",
    "ws = wb['Journal']\n",
    "validator = [x.value for x in ws['J:J']]\n",
    "if uniqueness in validator:\n",
    "    print('ye')"
   ]
  },
  {
   "cell_type": "code",
   "execution_count": 177,
   "id": "81df714a",
   "metadata": {},
   "outputs": [],
   "source": [
    "[x.value for x in ws['H:H'][1:]]"
   ]
  },
  {
   "cell_type": "code",
   "execution_count": 186,
   "id": "938cb5ca",
   "metadata": {},
   "outputs": [
    {
     "data": {
      "text/plain": [
       "102"
      ]
     },
     "execution_count": 186,
     "metadata": {},
     "output_type": "execute_result"
    }
   ],
   "source": [
    "max([x.value for x in ws['H:H'] if type(x.value) == int])"
   ]
  },
  {
   "cell_type": "code",
   "execution_count": 157,
   "id": "dae09935",
   "metadata": {},
   "outputs": [],
   "source": [
    "ws = load_workbook(EXCEL_DIRECTORY)['Journal']\n",
    "max_row = ws.max_row"
   ]
  },
  {
   "cell_type": "code",
   "execution_count": 158,
   "id": "394146ea",
   "metadata": {},
   "outputs": [],
   "source": [
    "with pd.ExcelWriter(EXCEL_DIRECTORY, engine='openpyxl', mode='a', if_sheet_exists='overlay') as writer:\n",
    "    row_transformed.to_excel(writer, 'Journal', startrow=max_row, header=False, index=False)\n",
    "    "
   ]
  },
  {
   "cell_type": "code",
   "execution_count": 159,
   "id": "aeb721cc",
   "metadata": {
    "scrolled": true
   },
   "outputs": [
    {
     "data": {
      "text/html": [
       "<div>\n",
       "<style scoped>\n",
       "    .dataframe tbody tr th:only-of-type {\n",
       "        vertical-align: middle;\n",
       "    }\n",
       "\n",
       "    .dataframe tbody tr th {\n",
       "        vertical-align: top;\n",
       "    }\n",
       "\n",
       "    .dataframe thead th {\n",
       "        text-align: right;\n",
       "    }\n",
       "</style>\n",
       "<table border=\"1\" class=\"dataframe\">\n",
       "  <thead>\n",
       "    <tr style=\"text-align: right;\">\n",
       "      <th></th>\n",
       "      <th>Konto</th>\n",
       "      <th>Kontoauswahl</th>\n",
       "      <th>Datum</th>\n",
       "      <th>Monat</th>\n",
       "      <th>Beleg</th>\n",
       "      <th>Beschreibung</th>\n",
       "      <th>Ort</th>\n",
       "      <th>interne Ablage</th>\n",
       "      <th>Betrag</th>\n",
       "    </tr>\n",
       "  </thead>\n",
       "  <tbody>\n",
       "    <tr>\n",
       "      <th>0</th>\n",
       "      <td>010.00</td>\n",
       "      <td>010.000 (Mieteingang EG)</td>\n",
       "      <td>2022-01-14</td>\n",
       "      <td>1</td>\n",
       "      <td>Account</td>\n",
       "      <td>info field test</td>\n",
       "      <td>Invoice folder</td>\n",
       "      <td>102</td>\n",
       "      <td>80.0</td>\n",
       "    </tr>\n",
       "  </tbody>\n",
       "</table>\n",
       "</div>"
      ],
      "text/plain": [
       "    Konto              Kontoauswahl      Datum  Monat    Beleg  \\\n",
       "0  010.00  010.000 (Mieteingang EG) 2022-01-14      1  Account   \n",
       "\n",
       "      Beschreibung             Ort  interne Ablage  Betrag  \n",
       "0  info field test  Invoice folder             102    80.0  "
      ]
     },
     "execution_count": 159,
     "metadata": {},
     "output_type": "execute_result"
    }
   ],
   "source": [
    "row_transformed"
   ]
  },
  {
   "cell_type": "markdown",
   "id": "2a365e0b",
   "metadata": {},
   "source": [
    "## Read excel\n",
    "    "
   ]
  },
  {
   "cell_type": "code",
   "execution_count": 235,
   "id": "c54c8307",
   "metadata": {},
   "outputs": [
    {
     "name": "stdout",
     "output_type": "stream",
     "text": [
      "<class 'pandas.core.frame.DataFrame'>\n",
      "RangeIndex: 6 entries, 0 to 5\n",
      "Data columns (total 10 columns):\n",
      " #   Column             Non-Null Count  Dtype  \n",
      "---  ------             --------------  -----  \n",
      " 0   Konto              0 non-null      float64\n",
      " 1   Kontoauswahl       0 non-null      float64\n",
      " 2   Datum              0 non-null      float64\n",
      " 3   Monat              0 non-null      float64\n",
      " 4   Beleg              0 non-null      float64\n",
      " 5   Beschreibung       0 non-null      float64\n",
      " 6   Ort                0 non-null      float64\n",
      " 7   interne Ablage     6 non-null      object \n",
      " 8   Betrag             0 non-null      float64\n",
      " 9   unique_identifier  0 non-null      float64\n",
      "dtypes: float64(9), object(1)\n",
      "memory usage: 608.0+ bytes\n"
     ]
    }
   ],
   "source": [
    "destination_excel.info()"
   ]
  },
  {
   "cell_type": "code",
   "execution_count": 241,
   "id": "e8fdcdf1",
   "metadata": {},
   "outputs": [
    {
     "data": {
      "text/plain": [
       "999"
      ]
     },
     "execution_count": 241,
     "metadata": {},
     "output_type": "execute_result"
    }
   ],
   "source": [
    "destination_excel = pd.read_excel(EXCEL_DIRECTORY, sheet_name='Journal')\n",
    "destination_excel['interne Ablage (NUR ZAHLEN)'].max()"
   ]
  },
  {
   "cell_type": "code",
   "execution_count": 244,
   "id": "c9a6041a",
   "metadata": {},
   "outputs": [],
   "source": [
    "df_dict = {}\n",
    "df_dict['Konto'] = [sel_account[:6]]\n",
    "df_dict['Kontoauswahl'] = [sel_account]\n",
    "df_dict['Datum'] = [row.Buchungstag]\n",
    "df_dict['Monat'] = [row.Buchungstag.month]\n",
    "if file_pdf:\n",
    "    df_dict['Beleg'] = [file_pdf.name]\n",
    "else:\n",
    "    df_dict['Beleg'] = ['Account']\n",
    "df_dict['Beschreibung'] = [info]\n",
    "df_dict['Ort'] = ['Invoice folder']\n",
    "df_dict['interne Ablage'] = [unique_n]\n",
    "df_dict['Betrag'] = [row.Umsatz]\n",
    "df_dict['unique_identifier'] = ''.join(row.astype(str))\n",
    "row_transformed = pd.DataFrame(df_dict)"
   ]
  },
  {
   "cell_type": "code",
   "execution_count": 245,
   "id": "307cbbff",
   "metadata": {},
   "outputs": [
    {
     "data": {
      "text/html": [
       "<div>\n",
       "<style scoped>\n",
       "    .dataframe tbody tr th:only-of-type {\n",
       "        vertical-align: middle;\n",
       "    }\n",
       "\n",
       "    .dataframe tbody tr th {\n",
       "        vertical-align: top;\n",
       "    }\n",
       "\n",
       "    .dataframe thead th {\n",
       "        text-align: right;\n",
       "    }\n",
       "</style>\n",
       "<table border=\"1\" class=\"dataframe\">\n",
       "  <thead>\n",
       "    <tr style=\"text-align: right;\">\n",
       "      <th></th>\n",
       "      <th>Konto</th>\n",
       "      <th>Kontoauswahl</th>\n",
       "      <th>Datum</th>\n",
       "      <th>Monat</th>\n",
       "      <th>Beleg</th>\n",
       "      <th>Beschreibung</th>\n",
       "      <th>Ort</th>\n",
       "      <th>interne Ablage</th>\n",
       "      <th>Betrag</th>\n",
       "      <th>unique_identifier</th>\n",
       "    </tr>\n",
       "  </thead>\n",
       "  <tbody>\n",
       "    <tr>\n",
       "      <th>0</th>\n",
       "      <td>010.00</td>\n",
       "      <td>010.000 (Mieteingang EG)</td>\n",
       "      <td>2022-01-14</td>\n",
       "      <td>1</td>\n",
       "      <td>Account</td>\n",
       "      <td>info field test</td>\n",
       "      <td>Invoice folder</td>\n",
       "      <td>102</td>\n",
       "      <td>80.0</td>\n",
       "      <td>2022-01-14 00:00:002022-01-14 00:00:0005 Ausza...</td>\n",
       "    </tr>\n",
       "  </tbody>\n",
       "</table>\n",
       "</div>"
      ],
      "text/plain": [
       "    Konto              Kontoauswahl      Datum  Monat    Beleg  \\\n",
       "0  010.00  010.000 (Mieteingang EG) 2022-01-14      1  Account   \n",
       "\n",
       "      Beschreibung             Ort  interne Ablage  Betrag  \\\n",
       "0  info field test  Invoice folder             102    80.0   \n",
       "\n",
       "                                   unique_identifier  \n",
       "0  2022-01-14 00:00:002022-01-14 00:00:0005 Ausza...  "
      ]
     },
     "execution_count": 245,
     "metadata": {},
     "output_type": "execute_result"
    }
   ],
   "source": [
    "row_transformed"
   ]
  },
  {
   "cell_type": "code",
   "execution_count": null,
   "id": "261e2b0d",
   "metadata": {},
   "outputs": [],
   "source": []
  }
 ],
 "metadata": {
  "kernelspec": {
   "display_name": "Python 3 (ipykernel)",
   "language": "python",
   "name": "python3"
  },
  "language_info": {
   "codemirror_mode": {
    "name": "ipython",
    "version": 3
   },
   "file_extension": ".py",
   "mimetype": "text/x-python",
   "name": "python",
   "nbconvert_exporter": "python",
   "pygments_lexer": "ipython3",
   "version": "3.9.6"
  },
  "toc": {
   "base_numbering": 1,
   "nav_menu": {},
   "number_sections": true,
   "sideBar": true,
   "skip_h1_title": false,
   "title_cell": "Table of Contents",
   "title_sidebar": "Contents",
   "toc_cell": false,
   "toc_position": {},
   "toc_section_display": true,
   "toc_window_display": false
  }
 },
 "nbformat": 4,
 "nbformat_minor": 5
}
