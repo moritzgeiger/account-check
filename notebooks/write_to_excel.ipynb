{
 "cells": [
  {
   "cell_type": "markdown",
   "id": "98f92338",
   "metadata": {},
   "source": [
    "# Imports"
   ]
  },
  {
   "cell_type": "code",
   "execution_count": 1,
   "id": "c7988de9",
   "metadata": {
    "ExecuteTime": {
     "end_time": "2022-02-12T15:48:04.178188Z",
     "start_time": "2022-02-12T15:48:03.738621Z"
    }
   },
   "outputs": [],
   "source": [
    "import pandas as pd\n",
    "import openpyxl"
   ]
  },
  {
   "cell_type": "code",
   "execution_count": 5,
   "id": "fc3e367b",
   "metadata": {
    "ExecuteTime": {
     "end_time": "2022-02-12T15:49:55.013834Z",
     "start_time": "2022-02-12T15:49:55.000399Z"
    }
   },
   "outputs": [],
   "source": [
    "df = pd.read_csv('../raw_data/test_file.csv', \n",
    "                    sep=';', \n",
    "                    skiprows=15, \n",
    "                    encoding=\"ISO-8859-1\", \n",
    "                    decimal=',', \n",
    "                    thousands='.',\n",
    "                    dayfirst=True,\n",
    "                    )"
   ]
  },
  {
   "cell_type": "code",
   "execution_count": 6,
   "id": "fd324d16",
   "metadata": {
    "ExecuteTime": {
     "end_time": "2022-02-12T15:49:56.898353Z",
     "start_time": "2022-02-12T15:49:56.879717Z"
    }
   },
   "outputs": [
    {
     "data": {
      "text/plain": [
       "[4022022.0,\n",
       " 4022022.0,\n",
       " '52 Dauerauftrag',\n",
       " 931.0,\n",
       " 'Maurice Stetter und Clara Reichel',\n",
       " 0.0,\n",
       " 'DE66120300001072517566',\n",
       " 12030000.0,\n",
       " 'BYLADEM1001',\n",
       " 'Überweisung Miete Beyerstr. 4. OG',\n",
       " nan,\n",
       " 'EUR',\n",
       " 1010.0,\n",
       " 'H']"
      ]
     },
     "execution_count": 6,
     "metadata": {},
     "output_type": "execute_result"
    }
   ],
   "source": [
    "row = list(df.iloc[1])\n",
    "row"
   ]
  },
  {
   "cell_type": "code",
   "execution_count": 8,
   "id": "eaf97f09",
   "metadata": {
    "ExecuteTime": {
     "end_time": "2022-02-12T15:50:50.901049Z",
     "start_time": "2022-02-12T15:50:48.600015Z"
    }
   },
   "outputs": [],
   "source": [
    "file_path = '../raw_data/cur_file.xlsx'\n",
    "with pd.ExcelWriter(file_path, engine='openpyxl', if_sheet_exists='overlay', mode='a') as writer:\n",
    "    row = pd.DataFrame(df.iloc[6]).T\n",
    "    row.to_excel(writer, 'Journal', startrow=11, header=False, )"
   ]
  },
  {
   "cell_type": "code",
   "execution_count": null,
   "id": "313e30f8",
   "metadata": {},
   "outputs": [],
   "source": []
  },
  {
   "cell_type": "code",
   "execution_count": null,
   "id": "4ed1810f",
   "metadata": {},
   "outputs": [],
   "source": []
  }
 ],
 "metadata": {
  "kernelspec": {
   "display_name": "Python 3 (ipykernel)",
   "language": "python",
   "name": "python3"
  },
  "language_info": {
   "codemirror_mode": {
    "name": "ipython",
    "version": 3
   },
   "file_extension": ".py",
   "mimetype": "text/x-python",
   "name": "python",
   "nbconvert_exporter": "python",
   "pygments_lexer": "ipython3",
   "version": "3.9.0"
  },
  "toc": {
   "base_numbering": 1,
   "nav_menu": {},
   "number_sections": true,
   "sideBar": true,
   "skip_h1_title": false,
   "title_cell": "Table of Contents",
   "title_sidebar": "Contents",
   "toc_cell": false,
   "toc_position": {},
   "toc_section_display": true,
   "toc_window_display": false
  }
 },
 "nbformat": 4,
 "nbformat_minor": 5
}
