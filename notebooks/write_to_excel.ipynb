{
 "cells": [
  {
   "cell_type": "markdown",
   "id": "98f92338",
   "metadata": {},
   "source": [
    "# Imports"
   ]
  },
  {
   "cell_type": "code",
   "execution_count": 1,
   "id": "c7988de9",
   "metadata": {},
   "outputs": [],
   "source": [
    "import pandas as pd\n",
    "import openpyxl"
   ]
  },
  {
   "cell_type": "code",
   "execution_count": 2,
   "id": "fc3e367b",
   "metadata": {},
   "outputs": [],
   "source": [
    "df = pd.read_csv('../raw_data/test_file.csv', \n",
    "                    sep=';', \n",
    "                    skiprows=15, \n",
    "                    encoding=\"ISO-8859-1\", \n",
    "                    decimal=',', \n",
    "                    thousands='.',\n",
    "                    dayfirst=True,\n",
    "                    )"
   ]
  },
  {
   "cell_type": "code",
   "execution_count": 17,
   "id": "fd324d16",
   "metadata": {},
   "outputs": [
    {
     "data": {
      "text/plain": [
       "[14012022.0,\n",
       " 14012022.0,\n",
       " '05 Basislastschrift',\n",
       " 931.0,\n",
       " 'IKEA Deutschland Gmb',\n",
       " 0.0,\n",
       " 'DE81302201900029610169',\n",
       " 30220190.0,\n",
       " 'HYVEDEMM414',\n",
       " 'Lastschrift 120110050050660221200003280 ELV65450116 12.01 10.05 ME0 EREF: 12011005005066022120000328065450116 MREF: 6545011601412201121005 CRED: DE67ZZZ00000169386 IBAN: DE81302201900029610169 BIC: HYVEDEMM414 ABWA: IKEA 328 ULM SAGT DANKE',\n",
       " '12011005005066022120000328065450116',\n",
       " 'EUR',\n",
       " 264.0,\n",
       " 'S']"
      ]
     },
     "execution_count": 17,
     "metadata": {},
     "output_type": "execute_result"
    }
   ],
   "source": [
    "row = list(df.iloc[1])\n",
    "row"
   ]
  },
  {
   "cell_type": "code",
   "execution_count": 28,
   "id": "eaf97f09",
   "metadata": {},
   "outputs": [],
   "source": [
    "file_path = '../raw_data/2021_Buchungen.xlsx'\n",
    "with pd.ExcelWriter(file_path, engine='openpyxl', if_sheet_exists='overlay', mode='a') as writer:\n",
    "    row = pd.DataFrame(df.iloc[6]).T\n",
    "    row.to_excel(writer, 'Journal', startrow=10, header=False, )"
   ]
  },
  {
   "cell_type": "code",
   "execution_count": null,
   "id": "313e30f8",
   "metadata": {},
   "outputs": [],
   "source": []
  },
  {
   "cell_type": "code",
   "execution_count": null,
   "id": "4ed1810f",
   "metadata": {},
   "outputs": [],
   "source": []
  }
 ],
 "metadata": {
  "kernelspec": {
   "display_name": "Python 3 (ipykernel)",
   "language": "python",
   "name": "python3"
  },
  "language_info": {
   "codemirror_mode": {
    "name": "ipython",
    "version": 3
   },
   "file_extension": ".py",
   "mimetype": "text/x-python",
   "name": "python",
   "nbconvert_exporter": "python",
   "pygments_lexer": "ipython3",
   "version": "3.9.6"
  },
  "toc": {
   "base_numbering": 1,
   "nav_menu": {},
   "number_sections": true,
   "sideBar": true,
   "skip_h1_title": false,
   "title_cell": "Table of Contents",
   "title_sidebar": "Contents",
   "toc_cell": false,
   "toc_position": {},
   "toc_section_display": true,
   "toc_window_display": false
  }
 },
 "nbformat": 4,
 "nbformat_minor": 5
}
