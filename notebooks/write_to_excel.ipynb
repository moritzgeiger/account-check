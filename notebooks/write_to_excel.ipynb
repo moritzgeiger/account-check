{
 "cells": [
  {
   "cell_type": "markdown",
   "id": "98f92338",
   "metadata": {},
   "source": [
    "# Imports"
   ]
  },
  {
   "cell_type": "code",
   "execution_count": 1,
   "id": "c7988de9",
   "metadata": {
    "ExecuteTime": {
     "end_time": "2022-02-26T19:22:35.338885Z",
     "start_time": "2022-02-26T19:22:34.696965Z"
    }
   },
   "outputs": [],
   "source": [
    "import pandas as pd\n",
    "import openpyxl"
   ]
  },
  {
   "cell_type": "code",
   "execution_count": 2,
   "id": "fc3e367b",
   "metadata": {
    "ExecuteTime": {
     "end_time": "2022-02-26T19:22:39.139501Z",
     "start_time": "2022-02-26T19:22:39.123270Z"
    }
   },
   "outputs": [],
   "source": [
    "df = pd.read_csv('../raw_data/test_file.csv', \n",
    "                    sep=';', \n",
    "                    skiprows=15, \n",
    "                    encoding=\"ISO-8859-1\", \n",
    "                    decimal=',', \n",
    "                    thousands='.',\n",
    "                    dayfirst=True,\n",
    "                    )"
   ]
  },
  {
   "cell_type": "code",
   "execution_count": 5,
   "id": "fd324d16",
   "metadata": {
    "ExecuteTime": {
     "end_time": "2022-02-26T19:23:51.521155Z",
     "start_time": "2022-02-26T19:23:51.492545Z"
    }
   },
   "outputs": [
    {
     "data": {
      "text/html": [
       "<div>\n",
       "<style scoped>\n",
       "    .dataframe tbody tr th:only-of-type {\n",
       "        vertical-align: middle;\n",
       "    }\n",
       "\n",
       "    .dataframe tbody tr th {\n",
       "        vertical-align: top;\n",
       "    }\n",
       "\n",
       "    .dataframe thead th {\n",
       "        text-align: right;\n",
       "    }\n",
       "</style>\n",
       "<table border=\"1\" class=\"dataframe\">\n",
       "  <thead>\n",
       "    <tr style=\"text-align: right;\">\n",
       "      <th></th>\n",
       "      <th>Buchungstag</th>\n",
       "      <th>Valuta</th>\n",
       "      <th>Textschlüssel</th>\n",
       "      <th>Primanota</th>\n",
       "      <th>Zahlungsempfänger</th>\n",
       "      <th>ZahlungsempfängerKto</th>\n",
       "      <th>ZahlungsempfängerIBAN</th>\n",
       "      <th>ZahlungsempfängerBLZ</th>\n",
       "      <th>ZahlungsempfängerBIC</th>\n",
       "      <th>Vorgang/Verwendungszweck</th>\n",
       "      <th>Kundenreferenz</th>\n",
       "      <th>Währung</th>\n",
       "      <th>Umsatz</th>\n",
       "      <th>Soll/Haben</th>\n",
       "    </tr>\n",
       "  </thead>\n",
       "  <tbody>\n",
       "    <tr>\n",
       "      <th>6</th>\n",
       "      <td>1022022.0</td>\n",
       "      <td>1022022.0</td>\n",
       "      <td>51 Überweisungsgutschr.</td>\n",
       "      <td>931.0</td>\n",
       "      <td>Andrew Yanni</td>\n",
       "      <td>0.0</td>\n",
       "      <td>DE43300700240046448700</td>\n",
       "      <td>30070024.0</td>\n",
       "      <td>DEUTDEDBDUE</td>\n",
       "      <td>Überweisung Miete Feb-2022 Yanni-Koraiem EREF:...</td>\n",
       "      <td>SAMO Grundsverwaltungs GbR</td>\n",
       "      <td>EUR</td>\n",
       "      <td>1055.0</td>\n",
       "      <td>H</td>\n",
       "    </tr>\n",
       "  </tbody>\n",
       "</table>\n",
       "</div>"
      ],
      "text/plain": [
       "  Buchungstag     Valuta            Textschlüssel Primanota Zahlungsempfänger  \\\n",
       "6   1022022.0  1022022.0  51 Überweisungsgutschr.     931.0      Andrew Yanni   \n",
       "\n",
       "  ZahlungsempfängerKto   ZahlungsempfängerIBAN ZahlungsempfängerBLZ  \\\n",
       "6                  0.0  DE43300700240046448700           30070024.0   \n",
       "\n",
       "  ZahlungsempfängerBIC                           Vorgang/Verwendungszweck  \\\n",
       "6          DEUTDEDBDUE  Überweisung Miete Feb-2022 Yanni-Koraiem EREF:...   \n",
       "\n",
       "               Kundenreferenz Währung  Umsatz Soll/Haben  \n",
       "6  SAMO Grundsverwaltungs GbR     EUR  1055.0          H  "
      ]
     },
     "execution_count": 5,
     "metadata": {},
     "output_type": "execute_result"
    }
   ],
   "source": [
    "row = list(df.iloc[1])\n",
    "pd.DataFrame(df.iloc[6]).T"
   ]
  },
  {
   "cell_type": "code",
   "execution_count": 6,
   "id": "eaf97f09",
   "metadata": {
    "ExecuteTime": {
     "end_time": "2022-02-26T19:28:33.726135Z",
     "start_time": "2022-02-26T19:28:31.401816Z"
    }
   },
   "outputs": [],
   "source": [
    "file_path = '../raw_data/cur_file.xlsx'\n",
    "with pd.ExcelWriter(file_path, engine='openpyxl', if_sheet_exists='overlay', mode='a') as writer:\n",
    "    row = pd.DataFrame(df.iloc[6]).T\n",
    "    row.to_excel(writer, 'Journal', startrow=21, header=False, index=False)"
   ]
  },
  {
   "cell_type": "code",
   "execution_count": null,
   "id": "313e30f8",
   "metadata": {},
   "outputs": [],
   "source": []
  },
  {
   "cell_type": "code",
   "execution_count": null,
   "id": "4ed1810f",
   "metadata": {},
   "outputs": [],
   "source": []
  }
 ],
 "metadata": {
  "kernelspec": {
   "display_name": "Python 3 (ipykernel)",
   "language": "python",
   "name": "python3"
  },
  "language_info": {
   "codemirror_mode": {
    "name": "ipython",
    "version": 3
   },
   "file_extension": ".py",
   "mimetype": "text/x-python",
   "name": "python",
   "nbconvert_exporter": "python",
   "pygments_lexer": "ipython3",
   "version": "3.9.0"
  },
  "toc": {
   "base_numbering": 1,
   "nav_menu": {},
   "number_sections": true,
   "sideBar": true,
   "skip_h1_title": false,
   "title_cell": "Table of Contents",
   "title_sidebar": "Contents",
   "toc_cell": false,
   "toc_position": {},
   "toc_section_display": true,
   "toc_window_display": false
  }
 },
 "nbformat": 4,
 "nbformat_minor": 5
}
